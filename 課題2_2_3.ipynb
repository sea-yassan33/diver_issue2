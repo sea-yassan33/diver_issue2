{
  "nbformat": 4,
  "nbformat_minor": 0,
  "metadata": {
    "colab": {
      "name": "課題2_2_3.ipynb",
      "provenance": [],
      "authorship_tag": "ABX9TyOUIN1PRLjvUFiMQMrz+BQ/"
    },
    "kernelspec": {
      "name": "python3",
      "display_name": "Python 3"
    },
    "language_info": {
      "name": "python"
    }
  },
  "cells": [
    {
      "cell_type": "markdown",
      "source": [
        "# 【問題1】何回折ったら富士山を超えるか\n",
        "\n",
        "紙を $n$ 回折ったときの厚さを $t_{n}$ としたとき、以下のように表せます。\n",
        "\n",
        "一般的なコピー用紙の厚さはおよそ 0.00008m なので、$t_{0} = 0.00008$ とします。\n",
        "\n",
        "厚さが「富士山の高さ(3776m)」を超えるのに必要な紙を折る最小回数を計算するプログラムを作成してください。"
      ],
      "metadata": {
        "id": "7vKcMQzlnAH2"
      }
    },
    {
      "cell_type": "code",
      "execution_count": 12,
      "metadata": {
        "colab": {
          "base_uri": "https://localhost:8080/"
        },
        "id": "K0-PxylYm_Jv",
        "outputId": "6a2a95be-6359-446b-daaf-4fe1ea17fd3b"
      },
      "outputs": [
        {
          "output_type": "stream",
          "name": "stdout",
          "text": [
            "厚さ： 6710.8864メートル\n"
          ]
        }
      ],
      "source": [
        "THICKNESS = 0.0008\n",
        "Y = a = 2\n",
        "n=23\n",
        "for i in range(n-1):\n",
        "  Y *= 2\n",
        "\n",
        "folded_thickness = THICKNESS * Y\n",
        "print(\"厚さ： {}メートル\".format(folded_thickness))"
      ]
    },
    {
      "cell_type": "code",
      "source": [
        "THICKNESS = 0.0008\n",
        "Y = 2\n",
        "rep = 1\n",
        "folded_thickness =0\n",
        "hight =3776\n",
        "\n",
        "while  folded_thickness < hight:\n",
        "  Y *= 2\n",
        "  folded_thickness = THICKNESS * Y\n",
        "  rep += 1\n",
        "\n",
        "print(\"回数： {}回\".format(rep))\n",
        "print(\"厚さ： {}メートル\".format(folded_thickness))"
      ],
      "metadata": {
        "colab": {
          "base_uri": "https://localhost:8080/"
        },
        "id": "SedqXClMoSID",
        "outputId": "733e7529-6938-4214-e126-da30af7f5f6d"
      },
      "execution_count": 7,
      "outputs": [
        {
          "output_type": "stream",
          "name": "stdout",
          "text": [
            "回数： 23回\n",
            "厚さ： 6710.8864メートル\n"
          ]
        }
      ]
    },
    {
      "cell_type": "markdown",
      "source": [
        "# 【問題2】任意の厚さに対応した関数\n",
        "\n",
        "高さを入力すると、それを超えるのに必要な紙を折る最小回数を出力する関数を実装してください。引数として、折る前の厚さ $t_{0}$ も設定できるようにしましょう。\n",
        "\n",
        "この関数を利用して、「最も近い太陽以外の恒星」に到達するには紙を何回折る必要があるか計算してください。\n",
        "「最も近い太陽以外の恒星」は「プロキシマ・ケンタウリ」で、地球からの距離はおよそ $4.0175 \\times 10^{16}$m です。"
      ],
      "metadata": {
        "id": "QQ__4hUTqolU"
      }
    },
    {
      "cell_type": "code",
      "source": [
        "def origami (hight):\n",
        "  THICKNESS = 0.0008\n",
        "  Y = 2\n",
        "  rep = 1\n",
        "  folded_thickness =0\n",
        "  hight =hight\n",
        "\n",
        "  while  folded_thickness < hight:\n",
        "    Y *= 2\n",
        "    folded_thickness = THICKNESS * Y\n",
        "    rep += 1\n",
        "\n",
        "  print(\"回数： {}回\".format(rep))\n",
        "  print(\"厚さ： {}メートル\".format(folded_thickness))"
      ],
      "metadata": {
        "id": "jMPlVEWCpUvi"
      },
      "execution_count": 8,
      "outputs": []
    },
    {
      "cell_type": "code",
      "source": [
        "# 地球からプロキシマ・ケンタウリ\n",
        "hight = 4.0175 * 10**16\n",
        "origami (hight)"
      ],
      "metadata": {
        "colab": {
          "base_uri": "https://localhost:8080/"
        },
        "id": "mw4QmbZJrJ8r",
        "outputId": "3f26a628-c55a-4420-9180-bf22d534d365"
      },
      "execution_count": 10,
      "outputs": [
        {
          "output_type": "stream",
          "name": "stdout",
          "text": [
            "回数： 66回\n",
            "厚さ： 5.902958103587057e+16メートル\n"
          ]
        }
      ]
    },
    {
      "cell_type": "markdown",
      "source": [
        "# 【問題3】\n",
        "必要な紙の長さ\n",
        "\n",
        "実際のところ身近にある紙は43回はおろか10回も折れません。しかし、大きな紙ほどたくさん折ることができ、トイレットペーパーのような長い紙を一方向に折ることを考えた時の折れる回数を求める公式が存在します。\n",
        "\n",
        "厚さ $t_{0}$ の紙をn回折るために必要な紙の長さLは以下の公式で求まります。\n",
        "\n",
        "![image.png](data:image/png;base64,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)"
      ],
      "metadata": {
        "id": "rN11KNK5sIGN"
      }
    },
    {
      "cell_type": "code",
      "source": [
        "p =3.14\n",
        "t = 0.00008\n",
        "n =10\n",
        "\n",
        "l = (p * t)/6*(2**n + 4)*(2**n -1)\n",
        "print('必要な長さ：{}m'.format(l))"
      ],
      "metadata": {
        "colab": {
          "base_uri": "https://localhost:8080/"
        },
        "id": "R3b7k8BirUrY",
        "outputId": "6cbe0ce4-6cdf-4038-8ea3-efc01cf50868"
      },
      "execution_count": 13,
      "outputs": [
        {
          "output_type": "stream",
          "name": "stdout",
          "text": [
            "必要な長さ：44.0288288m\n"
          ]
        }
      ]
    },
    {
      "cell_type": "code",
      "source": [
        "def origami2 (hight):\n",
        "  THICKNESS = 0.0008\n",
        "  p = 3.14\n",
        "  Y = 2\n",
        "  rep = 1\n",
        "  folded_thickness =0\n",
        "  hight =hight\n",
        "\n",
        "  while  folded_thickness < hight:\n",
        "    Y *= 2\n",
        "    folded_thickness = THICKNESS * Y\n",
        "    rep += 1\n",
        "  \n",
        "  l = (p * THICKNESS)/6*(2**rep + 4)*(2**rep -1)\n",
        "  print(\"回数： {}回\".format(rep))\n",
        "  print(\"厚さ： {}メートル\".format(folded_thickness))\n",
        "  print('必要な長さ：{}m'.format(l))"
      ],
      "metadata": {
        "id": "7xU4TvYotUIw"
      },
      "execution_count": 14,
      "outputs": []
    },
    {
      "cell_type": "code",
      "source": [
        "hight = 3776\n",
        "origami2 (hight)"
      ],
      "metadata": {
        "colab": {
          "base_uri": "https://localhost:8080/"
        },
        "id": "xKAvYFlCui2y",
        "outputId": "2732787d-c865-49e5-e569-1a8abe68777b"
      },
      "execution_count": 16,
      "outputs": [
        {
          "output_type": "stream",
          "name": "stdout",
          "text": [
            "回数： 23回\n",
            "厚さ： 6710.8864メートル\n",
            "必要な長さ：29461058098.471973m\n"
          ]
        }
      ]
    },
    {
      "cell_type": "code",
      "source": [
        ""
      ],
      "metadata": {
        "id": "avEXLl94u3y-"
      },
      "execution_count": null,
      "outputs": []
    }
  ]
}