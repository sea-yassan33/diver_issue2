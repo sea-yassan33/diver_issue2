{
  "nbformat": 4,
  "nbformat_minor": 0,
  "metadata": {
    "colab": {
      "name": "課題2_2_1.ipynb",
      "provenance": [],
      "authorship_tag": "ABX9TyOem/K4T8JDq7HlOSr4WGcF"
    },
    "kernelspec": {
      "name": "python3",
      "display_name": "Python 3"
    },
    "language_info": {
      "name": "python"
    }
  },
  "cells": [
    {
      "cell_type": "markdown",
      "source": [
        "# 課題1_紙を折る\n",
        "紙を折り続けると厚さが増していき 43回で月に届くという話がありますが、43回紙を折ったときの厚さを手計算で求めるのは大変です。\n",
        "\n",
        "そこで今回の課題では 1枚の紙を43回折り曲げた時の厚さを計算するプログラム を作成します。\n",
        "\n",
        "43回折った紙の厚さ $t_{43}$ は、折る前の紙の厚さ $t_{0}$ を使い以下の数式で求まります。\n",
        "\n",
        "折る前の紙の厚さ $t_{0}$ は0.00008mとします。一般的なコピー用紙の厚さです。\n",
        "\n",
        "\n",
        "* べき乗の算術演算子を使用\n",
        "* for 文を使用\n"
      ],
      "metadata": {
        "id": "Mgxzi9KkVoCo"
      }
    },
    {
      "cell_type": "code",
      "execution_count": null,
      "metadata": {
        "colab": {
          "base_uri": "https://localhost:8080/"
        },
        "id": "eY2sm6XsVVEy",
        "outputId": "8859303a-0283-40a2-aa78-23e62dec79df"
      },
      "outputs": [
        {
          "output_type": "stream",
          "name": "stdout",
          "text": [
            "厚さ： 0.00016メートル\n"
          ]
        }
      ],
      "source": [
        "# 紙を1回折った時の厚さを計算するコード\n",
        "\n",
        "THICKNESS = 0.00008\n",
        "\n",
        "folded_thickness = THICKNESS * 2\n",
        "\n",
        "print(\"厚さ： {}メートル\".format(folded_thickness))"
      ]
    },
    {
      "cell_type": "code",
      "source": [
        "THICKNESS = 0.00008\n",
        "y = 2 **43\n",
        "folded_thickness = THICKNESS * y\n",
        "\n",
        "print(\"厚さ： {}メートル\".format(folded_thickness))"
      ],
      "metadata": {
        "colab": {
          "base_uri": "https://localhost:8080/"
        },
        "id": "9INi-NpWXTuA",
        "outputId": "c6001e5a-75ee-4406-ce40-3ab58d15f489"
      },
      "execution_count": null,
      "outputs": [
        {
          "output_type": "stream",
          "name": "stdout",
          "text": [
            "厚さ： 703687441.77664メートル\n"
          ]
        }
      ]
    },
    {
      "cell_type": "markdown",
      "source": [
        "# 【問題2】単位の変換\n",
        "\n",
        "単位がメートルだと実感が湧きづらいので、◯◯万キロメートル に変換して表示させてください。\n",
        "\n",
        "サンプルとして ◯◯キロメートル に変換したコードを用意したので、参考にして取り組んでください。小数点以下は2桁まで表示されるように指定しています。"
      ],
      "metadata": {
        "id": "DsE7CT84ZOA2"
      }
    },
    {
      "cell_type": "code",
      "source": [
        "# メートルをキロメートルに変換して小数点以下2桁で表示する\n",
        "folded_thickness_km = folded_thickness/1000/10000\n",
        "print(\"厚さ： {:.2f}万キロメートル\".format(folded_thickness_km / 1000))"
      ],
      "metadata": {
        "colab": {
          "base_uri": "https://localhost:8080/"
        },
        "id": "fPi6SbUJZNSR",
        "outputId": "2e24aaf5-7b0b-4364-fc73-48b6f640d963"
      },
      "execution_count": null,
      "outputs": [
        {
          "output_type": "stream",
          "name": "stdout",
          "text": [
            "厚さ： 0.70万キロメートル\n"
          ]
        }
      ]
    },
    {
      "cell_type": "markdown",
      "source": [
        "## 【問題3】\n",
        "for文を使用して作成\n",
        "次に、for文を使用したプログラムを作ってください。\n",
        "\n",
        "べき乗の算術演算子は使ってはいけません。算術演算子は四則演算（+、-、*、/）のみ使えます。\n",
        "\n"
      ],
      "metadata": {
        "id": "pPdjZQXTWwwJ"
      }
    },
    {
      "cell_type": "code",
      "source": [
        "THICKNESS = 0.0008\n",
        "Y = a = 2\n",
        "n=43\n",
        "for i in range(n-1):\n",
        "  Y *= 2\n",
        "\n",
        "folded_thickness = THICKNESS * Y\n",
        "print(\"厚さ： {}メートル\".format(folded_thickness))"
      ],
      "metadata": {
        "colab": {
          "base_uri": "https://localhost:8080/"
        },
        "id": "B6Z7dIxaaZVX",
        "outputId": "a20043e4-daac-43a0-e63f-ce3406f304df"
      },
      "execution_count": null,
      "outputs": [
        {
          "output_type": "stream",
          "name": "stdout",
          "text": [
            "厚さ： 7036874417.7664メートル\n"
          ]
        }
      ]
    },
    {
      "cell_type": "markdown",
      "source": [
        "# 【問題4】\n",
        "計算時間の比較\n",
        "以上の2つの方法はどちらも正しいですが、コードの良さを比較する際には例えば以下のような点で評価されます。\n",
        "\n",
        "実行速度\n",
        "メモリの使用量\n",
        "可読性\n",
        "拡張性\n",
        "再利用性\n",
        "今回は実行速度を比較してみます。\n",
        "\n",
        "以下の雛形を使用して、2つの方法の実行時間を出力して、比較してください。変数の定義や print 文など、どちらの方法でも使われている部分は除いた範囲の時間を比較してください。"
      ],
      "metadata": {
        "id": "AfoGUi8lacM0"
      }
    },
    {
      "cell_type": "code",
      "source": [
        "import time"
      ],
      "metadata": {
        "id": "9Xruk5l7b9rt"
      },
      "execution_count": null,
      "outputs": []
    },
    {
      "cell_type": "code",
      "source": [
        "start = time.time()\n",
        "\n",
        "THICKNESS = 0.00008\n",
        "y = 2 **43\n",
        "folded_thickness = THICKNESS * y\n",
        "\n",
        "print(\"厚さ： {}メートル\".format(folded_thickness))\n",
        "\n",
        "elapsed_time = time.time() - start\n",
        "print(\"time : {}[s]\".format(elapsed_time))"
      ],
      "metadata": {
        "colab": {
          "base_uri": "https://localhost:8080/"
        },
        "id": "ICVZ3MSbb5IC",
        "outputId": "9f24f470-21dd-4ced-f8a5-5d97721ade0f"
      },
      "execution_count": null,
      "outputs": [
        {
          "output_type": "stream",
          "name": "stdout",
          "text": [
            "厚さ： 703687441.77664メートル\n",
            "time : 0.00017690658569335938[s]\n"
          ]
        }
      ]
    },
    {
      "cell_type": "code",
      "source": [
        "start = time.time()\n",
        "\n",
        "THICKNESS = 0.0008\n",
        "Y = a = 2\n",
        "n=43\n",
        "for i in range(n-1):\n",
        "  Y *= 2\n",
        "\n",
        "folded_thickness = THICKNESS * Y\n",
        "print(\"厚さ： {}メートル\".format(folded_thickness))\n",
        "\n",
        "elapsed_time = time.time() - start\n",
        "print(\"time : {}[s]\".format(elapsed_time))"
      ],
      "metadata": {
        "colab": {
          "base_uri": "https://localhost:8080/"
        },
        "id": "GgR_lHELbsUI",
        "outputId": "b82e431b-8f92-4a0d-8985-0d286ac28200"
      },
      "execution_count": null,
      "outputs": [
        {
          "output_type": "stream",
          "name": "stdout",
          "text": [
            "厚さ： 7036874417.7664メートル\n",
            "time : 0.00263214111328125[s]\n"
          ]
        }
      ]
    },
    {
      "cell_type": "markdown",
      "source": [
        "# 【問題5】リストへの保存\n",
        "ここまでは43回折った後の最後の値だけを使用していましたが、グラフで可視化するためには過程の値も必要です。for文を使用したコードに、過程の値合計44個を記録するコードを加えてください。\n",
        "\n",
        "《ヒント》\n",
        "\n",
        "* まず、空のリストを作成する。\n",
        "* 次に、折る前の値をリストに追加する。\n",
        "* for文の中でn回までの紙を折る過程の値をリストに追加していく。"
      ],
      "metadata": {
        "id": "KLsFSH8bccWl"
      }
    },
    {
      "cell_type": "code",
      "source": [
        "list=[]\n",
        "THICKNESS = 0.0008\n",
        "list.append(THICKNESS)\n",
        "Y = a = 2\n",
        "n=43\n",
        "for i in range(n-1):\n",
        "  Y *= 2\n",
        "  folded_thickness = THICKNESS * Y\n",
        "  list.append(folded_thickness)\n",
        "\n",
        "len(list)"
      ],
      "metadata": {
        "colab": {
          "base_uri": "https://localhost:8080/"
        },
        "id": "bw4YXdMAc4I2",
        "outputId": "24fe1f6a-6d43-453a-8f31-dae35b302732"
      },
      "execution_count": null,
      "outputs": [
        {
          "output_type": "execute_result",
          "data": {
            "text/plain": [
              "43"
            ]
          },
          "metadata": {},
          "execution_count": 38
        }
      ]
    },
    {
      "cell_type": "markdown",
      "source": [
        "# 【問題6】折れ線グラフの表示\n",
        "グラフの描画には Matplotlib という ライブラリ を用います。リストへ記録するコードの後ろで以下の雛形を使用してください。"
      ],
      "metadata": {
        "id": "mK7lk9IOe48R"
      }
    },
    {
      "cell_type": "code",
      "source": [
        "import matplotlib.pyplot as plt\n",
        "%matplotlib inline\n",
        "\n",
        "# グラフを表示する。タイトルと軸ラベル名付き。\n",
        "plt.title(\"thickness of folded paper\")\n",
        "plt.xlabel(\"number of folds\")\n",
        "plt.ylabel(\"thickness [m]\")\n",
        "plt.plot(list)  # 「リスト名」のところにリストの変数名を入れる\n",
        "plt.show()"
      ],
      "metadata": {
        "colab": {
          "base_uri": "https://localhost:8080/",
          "height": 295
        },
        "id": "xh8ZYln7exjW",
        "outputId": "3d4c60a3-ea9a-4e28-8e31-395aeaf9e685"
      },
      "execution_count": null,
      "outputs": [
        {
          "output_type": "display_data",
          "data": {
            "text/plain": [
              "<Figure size 432x288 with 1 Axes>"
            ],
            "image/png": "[encoded data removed]"
          },
          "metadata": {
            "needs_background": "light"
          }
        }
      ]
    },
    {
      "cell_type": "markdown",
      "source": [
        "# 【問題7】\n",
        "グラフのカスタマイズ\n",
        "\n",
        "グラフをより見やすくカスタマイズしてみましょう。カスタマイズしたグラフを最低3種類作成してください。例えば以下のように書き換えることで、線の色を赤に変更できます。"
      ],
      "metadata": {
        "id": "a-LAgqJXfsWs"
      }
    },
    {
      "cell_type": "code",
      "source": [
        "# 赤い折れ線グラフを表示する。\n",
        "plt.title(\"thickness of folded paper\")\n",
        "plt.xlabel(\"number of folds\")\n",
        "plt.ylabel(\"thickness [m]\")\n",
        "plt.plot(list, color='red')\n",
        "plt.show()"
      ],
      "metadata": {
        "colab": {
          "base_uri": "https://localhost:8080/",
          "height": 295
        },
        "id": "CBS3FwWefLW-",
        "outputId": "3b08b73e-c2a4-431a-b2c7-54ab0d10ad31"
      },
      "execution_count": null,
      "outputs": [
        {
          "output_type": "display_data",
          "data": {
            "text/plain": [
              "<Figure size 432x288 with 1 Axes>"
            ],
            "image/png": "[encoded data removed]"
          },
          "metadata": {
            "needs_background": "light"
          }
        }
      ]
    },
    {
      "cell_type": "code",
      "source": [
        "# カスタマイズ1\n",
        "import matplotlib.pyplot as plt\n",
        "%matplotlib inline\n",
        "fig, ax = plt.subplots()\n",
        "plt.title(\"thickness of folded paper\")\n",
        "plt.xlabel(\"number of folds\")\n",
        "plt.ylabel(\"thickness [m]\")\n",
        "ax.text(0, 7000000000, 'unit:10bilion', size=10)\n",
        "plt.plot(list, color='red')\n",
        "plt.show()"
      ],
      "metadata": {
        "colab": {
          "base_uri": "https://localhost:8080/",
          "height": 295
        },
        "id": "QHVo41Cnf8IR",
        "outputId": "501e5c4f-ea54-4cb8-83d3-bd29831123f6"
      },
      "execution_count": null,
      "outputs": [
        {
          "output_type": "display_data",
          "data": {
            "text/plain": [
              "<Figure size 432x288 with 1 Axes>"
            ],
            "image/png": "[encoded data removed]"
          },
          "metadata": {
            "needs_background": "light"
          }
        }
      ]
    },
    {
      "cell_type": "code",
      "source": [
        "# カスタマイズ2\n",
        "fig, ax = plt.subplots()\n",
        "plt.title(\"thickness of folded paper\")\n",
        "plt.xlabel(\"number of folds\")\n",
        "plt.ylabel(\"thickness [m]\")\n",
        "ax.text(0, 7000000000, 'unit:10bilion', size=10)\n",
        "ax.plot(list, linewidth=10 , color='red')\n",
        "plt.show()"
      ],
      "metadata": {
        "colab": {
          "base_uri": "https://localhost:8080/",
          "height": 295
        },
        "id": "DloDk7dOhTFl",
        "outputId": "ddf22c3c-6ab1-4249-93ba-ba8bf69e67d0"
      },
      "execution_count": null,
      "outputs": [
        {
          "output_type": "display_data",
          "data": {
            "text/plain": [
              "<Figure size 432x288 with 1 Axes>"
            ],
            "image/png": "[encoded data removed]"
          },
          "metadata": {
            "needs_background": "light"
          }
        }
      ]
    },
    {
      "cell_type": "code",
      "source": [
        "# カスタマイズ3\n",
        "fontdict_main = {\n",
        "  'family': 'DejaVu Serif',\n",
        "  'size': 20,\n",
        "  'weight': 'bold'\n",
        "}\n",
        "fontdict_sub = {\n",
        "  'family': 'monospace',\n",
        "  'size': 15,\n",
        "  'weight': 'bold'\n",
        "}\n",
        "\n",
        "fig, ax = plt.subplots()\n",
        "ax.set_title('thickness of folded paper', fontdict=fontdict_main)\n",
        "ax.set_xlabel(\"number of folds\", fontdict=fontdict_sub)\n",
        "ax.set_ylabel(\"thickness [m]\", fontdict=fontdict_sub)\n",
        "\n",
        "ax.text(0, 7000000000, 'unit:10bilion', size=10)\n",
        "ax.plot(list, linewidth=10 , color='red')\n",
        "plt.show()"
      ],
      "metadata": {
        "colab": {
          "base_uri": "https://localhost:8080/",
          "height": 306
        },
        "id": "8ZeNxge2jl1H",
        "outputId": "c3ad5b13-85fc-493e-d31f-b3322b145a75"
      },
      "execution_count": null,
      "outputs": [
        {
          "output_type": "display_data",
          "data": {
            "text/plain": [
              "<Figure size 432x288 with 1 Axes>"
            ],
            "image/png": "[encoded data removed]"
          },
          "metadata": {
            "needs_background": "light"
          }
        }
      ]
    },
    {
      "cell_type": "code",
      "source": [
        ""
      ],
      "metadata": {
        "id": "K_iecrCAkkK8"
      },
      "execution_count": null,
      "outputs": []
    }
  ]
}