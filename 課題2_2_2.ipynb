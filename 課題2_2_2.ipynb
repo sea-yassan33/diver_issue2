{
  "nbformat": 4,
  "nbformat_minor": 0,
  "metadata": {
    "colab": {
      "name": "課題2_2_2.ipynb",
      "provenance": [],
      "collapsed_sections": [],
      "authorship_tag": "ABX9TyM1pwLoPmhp+Rj1JuQ9QsZ9",
      "include_colab_link": true
    },
    "kernelspec": {
      "name": "python3",
      "display_name": "Python 3"
    },
    "language_info": {
      "name": "python"
    }
  },
  "cells": [
    {
      "cell_type": "markdown",
      "metadata": {
        "id": "view-in-github",
        "colab_type": "text"
      },
      "source": [
        "<a href=\"https://colab.research.google.com/github/sea-yassan33/diver_issue2/blob/main/%E8%AA%B2%E9%A1%8C2_2_2.ipynb\" target=\"_parent\"><img src=\"https://colab.research.google.com/assets/colab-badge.svg\" alt=\"Open In Colab\"/></a>"
      ]
    },
    {
      "cell_type": "markdown",
      "source": [
        "# 曽呂利新左衛門問題\n",
        "\n",
        "Pythonを使ってみよう」の問題で扱った紙を折ると月に届く話に似たものとして、曽呂利新左衛門の逸話があります。これを題材にプログラミングを進めます。\n",
        "\n",
        ">秀吉から褒美を下される際、何を希望するか尋ねられた新左衛門は、今日は米1粒、翌日には倍の2粒、その翌日には更に倍の4粒と、日ごとに倍の量の米を100日間もらう事を希望した。米粒なら大した事はないと思った秀吉は簡単に承諾したが、日ごとに倍ずつ増やして行くと100日後には膨大な量になる事に途中で気づき、他の褒美に変えてもらった。\n",
        "\n"
      ],
      "metadata": {
        "id": "zZt-imL_tseY"
      }
    },
    {
      "cell_type": "code",
      "execution_count": 50,
      "metadata": {
        "id": "1WUyaXantg2O"
      },
      "outputs": [],
      "source": [
        "list_x = []\n",
        "list_d = []\n",
        "list_t = []\n",
        "t_kome = 1\n",
        "list_x.append(t_kome)\n",
        "list_d.append(t_kome)\n",
        "list_t.append(t_kome)\n",
        "\n",
        "n = 10\n",
        "for i in range(n-1):\n",
        "  d_kome = t_kome*2 - t_kome\n",
        "  t_kome += t_kome *2 \n",
        "  list_x.append(i+2)\n",
        "  list_d.append(d_kome)\n",
        "  list_t.append(t_kome)"
      ]
    },
    {
      "cell_type": "code",
      "source": [
        "list_x[0:10]"
      ],
      "metadata": {
        "colab": {
          "base_uri": "https://localhost:8080/"
        },
        "id": "jRPY4gHPvc2J",
        "outputId": "d0c6d52e-4f7c-4551-fd6a-8496f56c7c94"
      },
      "execution_count": 51,
      "outputs": [
        {
          "output_type": "execute_result",
          "data": {
            "text/plain": [
              "[1, 2, 3, 4, 5, 6, 7, 8, 9, 10]"
            ]
          },
          "metadata": {},
          "execution_count": 51
        }
      ]
    },
    {
      "cell_type": "code",
      "source": [
        "print('その日にもらう米の数:{}粒'.format(list_d[-1]))\n",
        "print('その日までに累計で貰う米の数:{}粒'.format(list_t[-1]))"
      ],
      "metadata": {
        "colab": {
          "base_uri": "https://localhost:8080/"
        },
        "id": "n7c-9GBnwsrk",
        "outputId": "b742d749-d742-420b-9713-b5b385d96a04"
      },
      "execution_count": 52,
      "outputs": [
        {
          "output_type": "stream",
          "name": "stdout",
          "text": [
            "その日にもらう米の数:6561粒\n",
            "その日までに累計で貰う米の数:19683粒\n"
          ]
        }
      ]
    },
    {
      "cell_type": "code",
      "source": [
        "import matplotlib.pyplot as plt\n",
        "x1 = list_x\n",
        "y1 = list_d\n",
        "x2 = list_x\n",
        "y2 = list_t\n",
        "\n",
        "fig, axes = plt.subplots(2, 1)\n",
        "axes[0].plot(x1, y1)\n",
        "axes[1].plot(x2, y2)\n",
        "plt.show()"
      ],
      "metadata": {
        "colab": {
          "base_uri": "https://localhost:8080/",
          "height": 276
        },
        "id": "3EYZK3Viwy1P",
        "outputId": "4d3d6413-c92e-49e1-c003-60e316d4d4fc"
      },
      "execution_count": 4,
      "outputs": [
        {
          "output_type": "display_data",
          "data": {
            "text/plain": [
              "<Figure size 432x288 with 2 Axes>"
            ],
            "image/png": "[encoded data removed]"
          },
          "metadata": {
            "needs_background": "light"
          }
        }
      ]
    },
    {
      "cell_type": "markdown",
      "source": [
        "# 【問題2】\n",
        "100日目以外の米粒の数\n",
        "\n",
        "この逸話は30日だったり81日だったりと日数が曖昧です。どの話にも対応できるように日数を引数とした 関数 を作成しましょう。関数を作成した上で、コース受講日数でいくつ米粒をもらえるかを答えてください。問題1と同様に折れ線グラフも出力してください。\n",
        "\n",
        "以下の雛形には関数としての枠組みだけではなく、引数や戻り値についてのコメントも記載してあります。参考にして、自分なりにも分かりやすくコメントを書き換えてください。"
      ],
      "metadata": {
        "id": "cIeSw8_L8UOm"
      }
    },
    {
      "cell_type": "code",
      "source": [
        "list_x = []\n",
        "list_d = []\n",
        "list_t = []\n",
        "\n",
        "def compute_sorori_shinzaemon(n=100):\n",
        "  t_kome = 1\n",
        "  list_x.append(t_kome)\n",
        "  list_d.append(t_kome)\n",
        "  list_t.append(t_kome)\n",
        "  for i in range(n-1):\n",
        "    d_kome = t_kome*2 - t_kome\n",
        "    t_kome += t_kome *2 \n",
        "    list_x.append(i+2)\n",
        "    list_d.append(d_kome)\n",
        "    list_t.append(t_kome)\n",
        "  return list_x,list_d,list_t\n",
        "\n"
      ],
      "metadata": {
        "id": "2I4Fu48G8T68"
      },
      "execution_count": 63,
      "outputs": []
    },
    {
      "cell_type": "code",
      "source": [
        "list_x = []\n",
        "list_d = []\n",
        "list_t = []\n",
        "compute_sorori_shinzaemon(20)\n",
        "list_x\n",
        "print('何日目：{}'.format(list_x[-1]))\n",
        "print('その日にもらう米の数:{}粒'.format(list_d[-1]))\n",
        "print('その日までに累計で貰う米の数:{}粒'.format(list_t[-1]))"
      ],
      "metadata": {
        "colab": {
          "base_uri": "https://localhost:8080/"
        },
        "id": "1RMTYHknZx9_",
        "outputId": "7f58ca68-451a-4cf2-96d6-1feace3015b9"
      },
      "execution_count": 65,
      "outputs": [
        {
          "output_type": "stream",
          "name": "stdout",
          "text": [
            "何日目：20\n",
            "その日にもらう米の数:387420489粒\n",
            "その日までに累計で貰う米の数:1162261467粒\n"
          ]
        }
      ]
    },
    {
      "cell_type": "markdown",
      "source": [
        ""
      ],
      "metadata": {
        "id": "Cvr1oDGWZxQ3"
      }
    },
    {
      "cell_type": "markdown",
      "source": [
        ""
      ],
      "metadata": {
        "id": "50-oFyvdVg2o"
      }
    },
    {
      "cell_type": "markdown",
      "source": [
        "# 【問題3】\n",
        "貰える米で何人が何日生活できるか\n",
        "\n",
        "この米があれば何人が何日生活できるか計算する関数を作成してください。コースを受講する期間に貰える米粒で、このクラスにいる人数であれば、何日間生活できるかを出力してみましょう。\n",
        "\n",
        "関数の最低限の入力は 米粒の数(int) と 人数(int) 、出力は 生活できる日数(int) です。関数名やコメントなどは分かりやすく考えて作成してください。\n",
        "\n",
        "ここでは1日に必要な米粒の数は提示しません。自分なりに調べて、計算式に落とし込んでください。どう調べ、何を根拠にしたかもコメントを残しておいてください。"
      ],
      "metadata": {
        "id": "-mnt1fm79sGA"
      }
    },
    {
      "cell_type": "markdown",
      "source": [
        "米1粒：20g\n",
        "\n",
        "1日一人当たり：400g"
      ],
      "metadata": {
        "id": "ZZXU_Lxsequx"
      }
    },
    {
      "cell_type": "code",
      "source": [
        "list_x = []\n",
        "list_d = []\n",
        "list_t = []\n",
        "compute_sorori_shinzaemon(10)\n",
        "human = 2\n",
        "raice = 20\n",
        "human_raice =400\n",
        "print('何日目：{}'.format(list_x[-1]))\n",
        "print('その日にもらう米の数:{}粒'.format(list_d[-1]))\n",
        "print('その日までに累計で貰う米の数:{}粒'.format(list_t[-1]))\n",
        "print('生活する人数:{}人'.format(human))\n",
        "print('生活できる日数:{}日'.format(list_t[-1]/raice/human_raice/human))"
      ],
      "metadata": {
        "id": "j-LNJGQj9MkA",
        "colab": {
          "base_uri": "https://localhost:8080/"
        },
        "outputId": "49703773-7ea1-4d9a-b842-1eb3c19e9570"
      },
      "execution_count": 69,
      "outputs": [
        {
          "output_type": "stream",
          "name": "stdout",
          "text": [
            "何日目：10\n",
            "その日にもらう米の数:6561粒\n",
            "その日までに累計で貰う米の数:19683粒\n",
            "生活する人数:2人\n",
            "生活できる日数:1.2301875日\n"
          ]
        }
      ]
    },
    {
      "cell_type": "code",
      "source": [
        ""
      ],
      "metadata": {
        "id": "VJiPdsjTgKtc"
      },
      "execution_count": null,
      "outputs": []
    }
  ]
}